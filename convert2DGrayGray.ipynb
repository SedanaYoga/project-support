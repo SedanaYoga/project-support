{
 "cells": [
  {
   "cell_type": "code",
   "execution_count": null,
   "metadata": {},
   "outputs": [],
   "source": [
    "import glob\n",
    "import cv2\n",
    "import numpy as np\n",
    "import matplotlib.pyplot as plt"
   ]
  },
  {
   "cell_type": "code",
   "execution_count": null,
   "metadata": {},
   "outputs": [],
   "source": [
    "def graygray(img_):\n",
    "    xx = img_.shape\n",
    "    dim = img_.ndim\n",
    "    img_baru = np.zeros((xx[0], xx[1]), dtype='uint8')\n",
    "    for i in range(xx[0]):\n",
    "        for k in range(xx[1]):\n",
    "            if(dim==3):\n",
    "                img_baru[i,k]= 0.2126*img_[i,k,0]+0.7152*img_[i,k,1]+0.0722*img_[i,k,2]\n",
    "            else:\n",
    "                img_baru[i,k] = img_[i,k]\n",
    "    return img_baru"
   ]
  },
  {
   "cell_type": "code",
   "execution_count": null,
   "metadata": {},
   "outputs": [],
   "source": [
    "images = [cv2.imread(file) for file in glob.glob(\"train/label/*.jpg\")]\n",
    "\n",
    "for i in range(2):\n",
    "    images[i] = graygray(images[i])\n",
    "    print('Creating...images_' + str(i))"
   ]
  }
 ],
 "metadata": {
  "kernelspec": {
   "display_name": "Python 3",
   "language": "python",
   "name": "python3"
  },
  "language_info": {
   "codemirror_mode": {
    "name": "ipython",
    "version": 3
   },
   "file_extension": ".py",
   "mimetype": "text/x-python",
   "name": "python",
   "nbconvert_exporter": "python",
   "pygments_lexer": "ipython3",
   "version": "3.5.4-final"
  }
 },
 "nbformat": 4,
 "nbformat_minor": 2
}
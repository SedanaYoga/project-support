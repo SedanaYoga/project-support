{
 "cells": [
  {
   "cell_type": "code",
   "execution_count": 44,
   "metadata": {
    "scrolled": true
   },
   "outputs": [],
   "source": [
    "# Pythono3 code to rename multiple  \n",
    "# files in a directory or folder \n",
    "  \n",
    "# importing os module \n",
    "import os \n",
    "from natsort import natsorted, ns\n",
    "\n",
    "aha = 570\n",
    "\n",
    "i = aha\n",
    "dir1 = \"D:/DATA/Institut Teknologi Sepuluh Nopember/MATERI/SEMESTER VIII/Tugas Akhir/GitRepo/data/train/caca/\"\n",
    "file_path1 = os.listdir(dir1)\n",
    "filenames1 = natsorted(file_path1, key = lambda y : y.lower())\n",
    "for filename in filenames1:\n",
    "    dst = str(i) + \".png\"\n",
    "    src = dir1 + filename \n",
    "    dst = dir1 + dst \n",
    "\n",
    "    # rename() function will \n",
    "    # rename all the files \n",
    "    os.rename(src, dst)\n",
    "    #print(src)\n",
    "    i += 1\n",
    "\n",
    "i = aha\n",
    "dir2 = \"D:/DATA/Institut Teknologi Sepuluh Nopember/MATERI/SEMESTER VIII/Tugas Akhir/GitRepo/data/train/caca1/\"\n",
    "file_path2 = os.listdir(dir2)\n",
    "filenames2 = natsorted(file_path2, key = lambda y : y.lower())\n",
    "for filename in filenames2:\n",
    "    dst = str(i) + \".png\"\n",
    "    src = dir2 + filename \n",
    "    dst = dir2 + dst \n",
    "\n",
    "    # rename() function will \n",
    "    # rename all the files \n",
    "    os.rename(src, dst)\n",
    "    #print(src)\n",
    "    i += 1"
   ]
  },
  {
   "cell_type": "code",
   "execution_count": null,
   "metadata": {},
   "outputs": [],
   "source": []
  }
 ],
 "metadata": {
  "kernelspec": {
   "display_name": "Python 3",
   "language": "python",
   "name": "python3"
  },
  "language_info": {
   "codemirror_mode": {
    "name": "ipython",
    "version": 3
   },
   "file_extension": ".py",
   "mimetype": "text/x-python",
   "name": "python",
   "nbconvert_exporter": "python",
   "pygments_lexer": "ipython3",
   "version": "3.5.4"
  }
 },
 "nbformat": 4,
 "nbformat_minor": 2
}
